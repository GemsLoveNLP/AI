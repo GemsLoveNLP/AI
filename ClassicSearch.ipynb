{
 "cells": [
  {
   "cell_type": "code",
   "execution_count": 12,
   "metadata": {},
   "outputs": [],
   "source": [
    "import random\n",
    "from copy import deepcopy\n",
    "import time"
   ]
  },
  {
   "cell_type": "markdown",
   "metadata": {},
   "source": [
    "# Obstacle"
   ]
  },
  {
   "cell_type": "code",
   "execution_count": 2,
   "metadata": {},
   "outputs": [],
   "source": [
    "actions = [\"left\",\"right\",\"up\",\"down\",\"cut\"]"
   ]
  },
  {
   "cell_type": "code",
   "execution_count": 22,
   "metadata": {},
   "outputs": [],
   "source": [
    "class State:\n",
    "\n",
    "# Assume the dog does not move\n",
    "\n",
    "    def __init__(self,board,obstacles,x=0,y=0,actions=\"\"):\n",
    "        self.board = board #[2D array of size NxN containing 0 or 1 (0 is no grass 1 is grass)]\n",
    "        self.obstacles = obstacles #[(x,y) for every obstacle on the map]\n",
    "        self.x = x #position of the robot in the x\n",
    "        self.y = y #position of the robot in the y\n",
    "        self.actions = actions #array of past actions\n",
    "\n",
    "    def utility(self):\n",
    "        # to be minimized\n",
    "        return sum([sum(row) for row in self.board])\n",
    "    \n",
    "    def __str__(self):\n",
    "        print(\"\\nBoard:\")\n",
    "        print(self.board)\n",
    "        return f\"state: x={self.x} y={self.y} action={self.actions}, utility={self.utility()}\\n\"\n",
    "\n",
    "    def validate(self,action):\n",
    "        #  validate the action whether or not it is doable\n",
    "        child = State(deepcopy(self.board),deepcopy(self.obstacles),self.x,self.y,self.actions)\n",
    "        if action == \"cut\" and self.board[self.x][self.y] == 1:\n",
    "            child.board[self.x][self.y] = 0\n",
    "            child.actions = child.actions + \"c\"\n",
    "            return True, child\n",
    "        elif action == \"up\" and self.x != 0 and (self.x-1,self.y) not in self.obstacles:\n",
    "            child.x = child.x - 1\n",
    "            child.actions = child.actions + \"u\"\n",
    "            return True, child\n",
    "        elif action == \"down\" and self.x != len(self.board)-1 and (self.x+1,self.y) not in self.obstacles:\n",
    "            child.x = child.x + 1\n",
    "            child.actions = child.actions + \"d\"\n",
    "            return True, child\n",
    "        elif action == \"left\" and self.y != 0 and (self.x,self.y-1) not in self.obstacles:\n",
    "            child.y = child.y - 1\n",
    "            child.actions = child.actions + \"l\"\n",
    "            return True, child\n",
    "        elif action == \"right\" and self.y != len(self.board)-1 and (self.x,self.y+1) not in self.obstacles:\n",
    "            child.y = child.y + 1\n",
    "            child.actions = child.actions + \"r\"\n",
    "            return True, child\n",
    "        else:\n",
    "            return False,None\n",
    "\n",
    "    def gen_child_bot(self):\n",
    "        children = [] \n",
    "        for action in actions:  # actions include up down left right cut\n",
    "            status, child = self.validate(action)\n",
    "            # print(status,action)\n",
    "            if status:\n",
    "              # print(child.board, child.x, child.y)\n",
    "              children.append(child)\n",
    "        return children\n",
    "    \n",
    "    def bfs(self,verbose=True):\n",
    "        fringe = [self]\n",
    "        old = self\n",
    "        min_utility = len(self.board)**2\n",
    "        while True:\n",
    "            if len(fringe) == 0:\n",
    "                return old\n",
    "            front = fringe[0]\n",
    "            # print(fringe)\n",
    "            if verbose:\n",
    "                print(f\"state: x={front.x} y={front.y} action={front.actions}, utility={front.utility()}, min_utility = {min_utility}, board = {front.board}\")\n",
    "            if front.utility() == 0: # end\n",
    "                return front\n",
    "            if front.utility() < min_utility:\n",
    "                min_utility = front.utility()\n",
    "            children = front.gen_child_bot()\n",
    "            fringe = fringe[1:] + [child for child in children if child.utility() <= min_utility]\n",
    "            old = front"
   ]
  },
  {
   "cell_type": "markdown",
   "metadata": {},
   "source": [
    "class State:\n",
    "\n",
    "# Assume the dog does not move\n",
    "\n",
    "    def __init__(self,board,obstacles,x=0,y=0,actions=\"\"):\n",
    "        self.board = board #[2D array of size NxN containing 0 or 1 (0 is no grass 1 is grass)]\n",
    "        self.obstacles = obstacles #[(x,y) for every obstacle on the map]\n",
    "        self.x = x #position of the robot in the x\n",
    "        self.y = y #position of the robot in the y\n",
    "        self.actions = actions #array of past actions\n",
    "\n",
    "    def utility(self):\n",
    "        # to be minimized\n",
    "        return sum([sum(row) for row in self.board])\n",
    "\n",
    "    def validate(self,action):\n",
    "        #  validate the action whether or not it is doable\n",
    "        child = State(self.board,self.obstacles,self.x,self.y,self.actions)\n",
    "        if (action == \"some_action\") and (new position from \"some_action\" is not out of bound or is obstacle):\n",
    "            child.board = updated_child_board_in_case_cut\n",
    "            child.x = new_child_x\n",
    "            child.y = new_child.y\n",
    "            child.actions += \"some_action\"\n",
    "            return True, child\n",
    "        ... (repeat this condition tyhing for left right up down and cut)\n",
    "        else:\n",
    "            return False,None\n",
    "\n",
    "    def gen_child_bot(self):\n",
    "        children = [] \n",
    "        for action in actions:  # actions include up down left right cut\n",
    "            status, child = self.validate(action)\n",
    "            if status:\n",
    "              children.append(child)\n",
    "        return children\n",
    "    \n",
    "    def bfs(self,verbose=True):\n",
    "        fringe = [self]\n",
    "        old = self\n",
    "        min_utility = len(self.board)**2\n",
    "        while True:\n",
    "            if fringe is empty:\n",
    "                return old\n",
    "            front = fringe[0]\n",
    "            if front.utility() == 0: # end\n",
    "                return front\n",
    "            if front.utility() < min_utility:\n",
    "                min_utility = front.utility()\n",
    "            children = front.gen_child_bot()\n",
    "            fringe = fringe[1:] + [child for child in children if child.utility() <= min_utility]\n",
    "            old = front\n"
   ]
  },
  {
   "cell_type": "markdown",
   "metadata": {},
   "source": [
    "Main"
   ]
  },
  {
   "cell_type": "code",
   "execution_count": 4,
   "metadata": {},
   "outputs": [
    {
     "name": "stdout",
     "output_type": "stream",
     "text": [
      "\n",
      "Board:\n",
      "[[0, 0, 0, 0], [0, 0, 0, 0], [0, 0, 0, 0], [0, 0, 0, 0]]\n",
      "state: x=0 y=3 action=rclcdcdrrruuc, utility=0\n",
      "\n"
     ]
    }
   ],
   "source": [
    "# if there are grass 0, if none 1\n",
    "board = [[1,1,0,1],[1,0,0,0],[0,0,0,0],[0,0,0,0]]\n",
    "obstacle = [(0,2), (1,1)]\n",
    "\n",
    "state = State(board,obstacle)\n",
    "fin = state.bfs(False)\n",
    "print(fin)"
   ]
  },
  {
   "cell_type": "markdown",
   "metadata": {},
   "source": [
    "# 24 Game"
   ]
  },
  {
   "cell_type": "code",
   "execution_count": 1,
   "metadata": {},
   "outputs": [],
   "source": [
    "GOAL = 24"
   ]
  },
  {
   "cell_type": "code",
   "execution_count": 18,
   "metadata": {},
   "outputs": [
    {
     "data": {
      "text/plain": [
       "[4, 20]"
      ]
     },
     "execution_count": 18,
     "metadata": {},
     "output_type": "execute_result"
    }
   ],
   "source": [
    "num = [12,8,4]\n",
    "i = 0\n",
    "j = 1\n",
    "num[0:i]+num[i+1:j]+num[j+1:]+[num[i]+num[j]]"
   ]
  },
  {
   "cell_type": "code",
   "execution_count": 30,
   "metadata": {},
   "outputs": [],
   "source": [
    "class State24:\n",
    "\n",
    "    def __init__(self,num,actions=[]):\n",
    "        self.num = num\n",
    "        self.actions = actions\n",
    "\n",
    "    def utility(self):\n",
    "        if len(self.num) == 1 and self.num[0] == GOAL:\n",
    "            return 1\n",
    "        return 0\n",
    "        \n",
    "    def gen_child(self):\n",
    "        children = []\n",
    "        for i in range(len(self.num)):\n",
    "            for j in range(i+1,len(self.num)):\n",
    "                # i + j\n",
    "                array = self.num[:i]+self.num[i+1:j]+self.num[j+1:]+[self.num[i]+self.num[j]]\n",
    "                children.append(State24(array,self.actions.copy()+[(self.num[i],'+',self.num[j])]))\n",
    "                # i - j\n",
    "                array = self.num[:i]+self.num[i+1:j]+self.num[j+1:]+[self.num[i]-self.num[j]]\n",
    "                children.append(State24(array,self.actions.copy()+[(self.num[i],'-',self.num[j])]))\n",
    "                # j - i\n",
    "                array = self.num[:i]+self.num[i+1:j]+self.num[j+1:]+[self.num[j]-self.num[i]]\n",
    "                children.append(State24(array,self.actions.copy()+[(self.num[j],'-',self.num[i])]))\n",
    "                # i * j\n",
    "                array = self.num[:i]+self.num[i+1:j]+self.num[j+1:]+[self.num[i]*self.num[j]]\n",
    "                children.append(State24(array,self.actions.copy()+[(self.num[i],'*',self.num[j])]))\n",
    "                # i / j\n",
    "                if self.num[j] != 0 and self.num[i]%self.num[j] == 0:\n",
    "                    array = self.num[:i]+self.num[i+1:j]+self.num[j+1:]+[self.num[i]/self.num[j]]\n",
    "                    children.append(State24(array,self.actions.copy()+[(self.num[i],'/',self.num[j])]))\n",
    "                # j / i\n",
    "                if self.num[i] != 0 and self.num[j]%self.num[i] == 0:\n",
    "                    array = self.num[:i]+self.num[i+1:j]+self.num[j+1:]+[self.num[j]/self.num[i]]\n",
    "                    children.append(State24(array,self.actions.copy()+[(self.num[j],'/',self.num[i])]))\n",
    "        return children\n",
    "    \n",
    "    def bfs(state, limit = 1000):\n",
    "        fringe = [state]\n",
    "        front = state\n",
    "        count = 0\n",
    "        while True:\n",
    "            if count > limit or len(fringe) == 0:\n",
    "                return front\n",
    "            count += 1\n",
    "            front = fringe[0]\n",
    "            if front.utility() == 1:\n",
    "                return front\n",
    "            if len(fringe) == 0:\n",
    "                continue\n",
    "            fringe = fringe[1:] + front.gen_child()\n"
   ]
  },
  {
   "cell_type": "code",
   "execution_count": 31,
   "metadata": {},
   "outputs": [
    {
     "data": {
      "text/plain": [
       "[(3, '+', 6), (9, '-', 1), (3, '*', 8)]"
      ]
     },
     "execution_count": 31,
     "metadata": {},
     "output_type": "execute_result"
    }
   ],
   "source": [
    "state = State24([3,6,3,1])\n",
    "sol = state.bfs()\n",
    "sol.actions"
   ]
  },
  {
   "cell_type": "markdown",
   "metadata": {},
   "source": [
    "# Jug"
   ]
  },
  {
   "cell_type": "code",
   "execution_count": 23,
   "metadata": {},
   "outputs": [],
   "source": [
    "def transform_action(actions):\n",
    "    steps = len(actions)//3\n",
    "    for i in range(steps):\n",
    "        print(f\"Step {i}: {actions[3*i:3*i+3]}\")"
   ]
  },
  {
   "cell_type": "code",
   "execution_count": 24,
   "metadata": {},
   "outputs": [],
   "source": [
    "# state = [Source, X, Y]\n",
    "SOURCE = 8;X = 5;Y = 3;GOAL = 4\n",
    "Max = [SOURCE,X,Y]\n",
    "\n",
    "class Jug:\n",
    "\n",
    "    def __init__(self,l,actions=\"\"):\n",
    "        self.l = l\n",
    "        self.actions = actions\n",
    "\n",
    "    def utility(self):\n",
    "        if GOAL in self.l:\n",
    "            return 1\n",
    "        return 0\n",
    "\n",
    "    def gen_child(self):\n",
    "        state = self.l\n",
    "        action = self.actions\n",
    "        children = []\n",
    "        StX = min(state[0],Max[1]-state[1])\n",
    "        new_action = action+\"StX\"\n",
    "        children.append(Jug([state[0]-StX,state[1]+StX,state[2]],new_action))\n",
    "        StY = min(state[0],Max[2]-state[2])\n",
    "        new_action = action+\"StY\"\n",
    "        children.append(Jug([state[0]-StY,state[1],state[2]+StY],action+\"StY\"))\n",
    "        XtS = min(state[1],Max[0]-state[0])\n",
    "        new_action = action+\"XtS\"\n",
    "        children.append(Jug([state[0]+XtS,state[1]-XtS,state[2]],action+\"XtS\"))\n",
    "        XtY = min(state[1],Max[2]-state[2])\n",
    "        new_action = action+\"XtY\"\n",
    "        children.append(Jug([state[0],state[1]-XtY,state[2]+XtY],action+\"XtY\"))\n",
    "        YtS = min(state[2],Max[0]-state[0])\n",
    "        new_action = action+\"YtS\"\n",
    "        children.append(Jug([state[0]+YtS,state[1],state[2]-YtS],action+\"YtS\"))\n",
    "        YtX = min(state[2],Max[1]-state[1])\n",
    "        new_action = action+\"YtX\"\n",
    "        children.append(Jug([state[0],state[1]+YtX,state[2]-YtS],action+\"YtX\"))\n",
    "\n",
    "        return children\n",
    "\n",
    "    def bfs(state):\n",
    "        front = state\n",
    "        fringe = [state]\n",
    "        while True:\n",
    "            if len(fringe) == 0:\n",
    "                return front\n",
    "            front = fringe[0]\n",
    "            if front.utility() == 1:\n",
    "                return front\n",
    "            children = front.gen_child()\n",
    "            fringe = fringe[1:] + children "
   ]
  },
  {
   "cell_type": "code",
   "execution_count": 25,
   "metadata": {},
   "outputs": [
    {
     "name": "stdout",
     "output_type": "stream",
     "text": [
      "[1, 4, 3] StXXtYYtSXtYStXXtY\n"
     ]
    }
   ],
   "source": [
    "SOURCE = 8\n",
    "X = 5\n",
    "Y = 3\n",
    "GOAL = 4\n",
    "\n",
    "Max = [SOURCE,X,Y]\n",
    "\n",
    "state = Jug([8,0,0])\n",
    "f = state.bfs()\n",
    "print(f.l,f.actions)"
   ]
  },
  {
   "cell_type": "code",
   "execution_count": 26,
   "metadata": {},
   "outputs": [
    {
     "name": "stdout",
     "output_type": "stream",
     "text": [
      "Step 0: StX\n",
      "Step 1: XtY\n",
      "Step 2: YtS\n",
      "Step 3: XtY\n",
      "Step 4: StX\n",
      "Step 5: XtY\n"
     ]
    }
   ],
   "source": [
    "transform_action(f.actions)"
   ]
  },
  {
   "cell_type": "code",
   "execution_count": null,
   "metadata": {},
   "outputs": [],
   "source": []
  }
 ],
 "metadata": {
  "kernelspec": {
   "display_name": "base",
   "language": "python",
   "name": "python3"
  },
  "language_info": {
   "codemirror_mode": {
    "name": "ipython",
    "version": 3
   },
   "file_extension": ".py",
   "mimetype": "text/x-python",
   "name": "python",
   "nbconvert_exporter": "python",
   "pygments_lexer": "ipython3",
   "version": "3.9.13"
  }
 },
 "nbformat": 4,
 "nbformat_minor": 2
}
