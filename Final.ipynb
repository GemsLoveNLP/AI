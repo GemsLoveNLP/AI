{
 "cells": [
  {
   "cell_type": "markdown",
   "metadata": {},
   "source": [
    "# Hex"
   ]
  },
  {
   "cell_type": "code",
   "execution_count": 212,
   "metadata": {},
   "outputs": [],
   "source": [
    "import math\n",
    "from math import inf\n",
    "\n",
    "# Define the board size for Hex\n",
    "BOARD_SIZE = 4\n",
    "DEPTH = 4\n",
    "\n",
    "# Define player symbols\n",
    "PLAYER_X = 'X'\n",
    "PLAYER_O = 'O'\n",
    "EMPTY = ' '\n",
    "# X is vertical, O is horizontal"
   ]
  },
  {
   "cell_type": "code",
   "execution_count": 213,
   "metadata": {},
   "outputs": [],
   "source": [
    "def path_find(board, player, verbose=False):\n",
    "    # return 1 if the player has a path\n",
    "    fringe = []\n",
    "    visited = set()\n",
    "    # If player is the vertical\n",
    "    if player == PLAYER_X:\n",
    "        for index, symbol in enumerate(board[0]):\n",
    "            if symbol == PLAYER_X:\n",
    "                fringe.append((0,index))\n",
    "        if verbose:\n",
    "            print(fringe)\n",
    "        while True:\n",
    "            # If we can no longer expand return 0\n",
    "            if len(fringe) == 0:\n",
    "                if verbose:\n",
    "                    print(visited)\n",
    "                return 0\n",
    "            top = fringe[0]\n",
    "            row,col = top\n",
    "            # If the level is at the other side\n",
    "            if row == BOARD_SIZE -1:\n",
    "                if verbose:\n",
    "                    print(visited)\n",
    "                return 1\n",
    "            # Adding the expanded element to the visited set\n",
    "            visited.add(top)\n",
    "            # Remove the expanded element from the list\n",
    "            fringe = fringe[1:]\n",
    "            # Add child nodes to the fringe\n",
    "            # If the node is left most, we start checking at the direct downword element\n",
    "            # If the node is not left most, we start checking at the element leftward of it\n",
    "            new_col = col if col == 0 else col-1\n",
    "            new_row = row + 1\n",
    "            while True:\n",
    "                if board[new_row][new_col] == PLAYER_X:\n",
    "                    current = (new_row,new_col)\n",
    "                    if current not in visited:\n",
    "                        # if the node that is connected is never visited before push it onto the fringe\n",
    "                        fringe = [current] + fringe\n",
    "                else:\n",
    "                    # check if the element is not the leftward element\n",
    "                    if new_col != col - 1: \n",
    "                        break\n",
    "                new_col += 1\n",
    "                if new_col == BOARD_SIZE:\n",
    "                    break\n",
    "            if verbose:\n",
    "                print(fringe)\n",
    "\n",
    "    # If player is the horizontal\n",
    "    elif player == PLAYER_O:\n",
    "        for index, symbol in enumerate([layer[0] for layer in board]):\n",
    "            if symbol == PLAYER_O:\n",
    "                fringe.append((index,0))\n",
    "        if verbose:\n",
    "            print(fringe)\n",
    "        while True:\n",
    "            # If we can no longer expand return 0\n",
    "            if len(fringe) == 0:\n",
    "                if verbose:\n",
    "                    print(visited)\n",
    "                return 0\n",
    "            top = fringe[0]\n",
    "            row,col = top\n",
    "            # If the level is at the other side\n",
    "            if col == BOARD_SIZE -1:\n",
    "                if verbose:\n",
    "                    print(visited)\n",
    "                return 1\n",
    "            # Adding the expanded element to the visited set\n",
    "            visited.add(top)\n",
    "            # Remove the expanded element from the list\n",
    "            fringe = fringe[1:]\n",
    "            # Add child nodes to the fringe\n",
    "            # If the node is top most, we start checking at the direct rightward element\n",
    "            # If the node is not top most, we start checking at the element upward of it\n",
    "            new_row = row if row == 0 else row-1\n",
    "            new_col = col + 1\n",
    "            while True:\n",
    "                if board[new_row][new_col] == PLAYER_O:\n",
    "                    current = (new_row,new_col)\n",
    "                    if current not in visited:\n",
    "                        # if the node that is connected is never visited before push it onto the fringe\n",
    "                        # print(current)\n",
    "                        fringe = [current] + fringe\n",
    "                else:\n",
    "                    # check if the element is not the top most element\n",
    "                    if new_row != row - 1: \n",
    "                        break\n",
    "                new_row += 1\n",
    "                if new_row == BOARD_SIZE:\n",
    "                    break\n",
    "            if verbose:\n",
    "                print(fringe)\n",
    "\n",
    "def evaluate(board,verbose=False):\n",
    "    if verbose:\n",
    "        print(\"X:\")\n",
    "    x = path_find(board,PLAYER_X,verbose)\n",
    "    if x == 1:\n",
    "        return 1\n",
    "    if verbose:\n",
    "        print(\"O:\")\n",
    "    o = path_find(board,PLAYER_O,verbose)\n",
    "    if o == 1:\n",
    "        return -1\n",
    "    return 0\n"
   ]
  },
  {
   "cell_type": "code",
   "execution_count": 214,
   "metadata": {},
   "outputs": [],
   "source": [
    "# Define the minimax function with alpha-beta pruning\n",
    "def minimax(board, depth, alpha, beta, maximizing_player):\n",
    "    result = evaluate(board)\n",
    "    if result != 0 or depth == 0:\n",
    "        return result\n",
    "    \n",
    "    if maximizing_player:\n",
    "        max_eval = -math.inf\n",
    "        for i in range(BOARD_SIZE):\n",
    "            for j in range(BOARD_SIZE):\n",
    "                if board[i][j] == EMPTY:\n",
    "                    board[i][j] = PLAYER_X\n",
    "                    eval = minimax(board, depth - 1, alpha, beta, False)\n",
    "                    board[i][j] = EMPTY\n",
    "                    max_eval = max(max_eval, eval)\n",
    "                    alpha = max(alpha, eval)\n",
    "                    if beta <= alpha:\n",
    "                        break\n",
    "        return max_eval\n",
    "    else:\n",
    "        min_eval = math.inf\n",
    "        for i in range(BOARD_SIZE):\n",
    "            for j in range(BOARD_SIZE):\n",
    "                if board[i][j] == EMPTY:\n",
    "                    board[i][j] = PLAYER_O\n",
    "                    eval = minimax(board, depth - 1, alpha, beta, True)\n",
    "                    board[i][j] = EMPTY\n",
    "                    min_eval = min(min_eval, eval)\n",
    "                    beta = min(beta, eval)\n",
    "                    if beta <= alpha:\n",
    "                        break\n",
    "        return min_eval\n",
    "\n",
    "# Define the function to get the best move for the AI player\n",
    "def get_best_move(board):\n",
    "    best_move = None\n",
    "    best_eval = -math.inf\n",
    "    for i in range(BOARD_SIZE):\n",
    "        for j in range(BOARD_SIZE):\n",
    "            if board[i][j] == EMPTY:\n",
    "                board[i][j] = PLAYER_X\n",
    "                eval = minimax(board, DEPTH, -math.inf, math.inf, False)\n",
    "                board[i][j] = EMPTY\n",
    "                if eval > best_eval:\n",
    "                    best_eval = eval\n",
    "                    best_move = (i, j)\n",
    "    return best_move"
   ]
  },
  {
   "cell_type": "code",
   "execution_count": 223,
   "metadata": {},
   "outputs": [],
   "source": [
    "# Define the main game loop\n",
    "def main():\n",
    "    # Initialize the empty board\n",
    "    board = [[EMPTY for _ in range(BOARD_SIZE)] for _ in range(BOARD_SIZE)]\n",
    "    # Print the initial board\n",
    "    print(\"Initial Board:\")\n",
    "    for index, row in enumerate(board):\n",
    "        print(index*\" \"+ \"\\\\\" + \" \".join(row) + \"\\\\\")\n",
    "    print()\n",
    "    # Game loop\n",
    "    while True:\n",
    "        # Player X (AI) makes a move\n",
    "        x, y = get_best_move(board)\n",
    "        board[x][y] = PLAYER_X\n",
    "        print(\"Player X's move:\")\n",
    "        for index, row in enumerate(board):\n",
    "            print(index*\" \"+ \"\\\\\" + \" \".join(row) + \"\\\\\")\n",
    "        print()\n",
    "        # Check for win or draw\n",
    "        result = evaluate(board)\n",
    "        if result == 1:\n",
    "            print(\"Player X wins!\")\n",
    "            break\n",
    "        elif result == -1:\n",
    "            print(\"Player O wins!\")\n",
    "            break\n",
    "        elif all(all(cell != EMPTY for cell in row) for row in board):\n",
    "            print(\"It's a draw!\")\n",
    "            break\n",
    "        # Player O (AI) makes a move\n",
    "        x, y = get_best_move(board)\n",
    "        board[x][y] = PLAYER_O\n",
    "        print(\"Player O's move:\")\n",
    "        for index, row in enumerate(board):\n",
    "            print(index*\" \"+ \"\\\\\" + \" \".join(row) + \"\\\\\")\n",
    "        print()\n",
    "        # Check for win or draw\n",
    "        result = evaluate(board)\n",
    "        if result == 1:\n",
    "            print(\"Player X wins!\")\n",
    "            break\n",
    "        elif result == -1:\n",
    "            print(\"Player O wins!\")\n",
    "            break\n",
    "        elif all(all(cell != EMPTY for cell in row) for row in board):\n",
    "            print(\"It's a draw!\")\n",
    "            break"
   ]
  },
  {
   "cell_type": "code",
   "execution_count": 224,
   "metadata": {},
   "outputs": [
    {
     "name": "stdout",
     "output_type": "stream",
     "text": [
      "Initial Board:\n",
      "\\       \\\n",
      " \\       \\\n",
      "  \\       \\\n",
      "   \\       \\\n",
      "\n",
      "Player X's move:\n",
      "\\X      \\\n",
      " \\       \\\n",
      "  \\       \\\n",
      "   \\       \\\n",
      "\n",
      "Player O's move:\n",
      "\\X O    \\\n",
      " \\       \\\n",
      "  \\       \\\n",
      "   \\       \\\n",
      "\n",
      "Player X's move:\n",
      "\\X O X  \\\n",
      " \\       \\\n",
      "  \\       \\\n",
      "   \\       \\\n",
      "\n",
      "Player O's move:\n",
      "\\X O X  \\\n",
      " \\       \\\n",
      "  \\  O    \\\n",
      "   \\       \\\n",
      "\n",
      "Player X's move:\n",
      "\\X O X X\\\n",
      " \\       \\\n",
      "  \\  O    \\\n",
      "   \\       \\\n",
      "\n",
      "Player O's move:\n",
      "\\X O X X\\\n",
      " \\       \\\n",
      "  \\  O O  \\\n",
      "   \\       \\\n",
      "\n",
      "Player X's move:\n",
      "\\X O X X\\\n",
      " \\X      \\\n",
      "  \\  O O  \\\n",
      "   \\       \\\n",
      "\n",
      "Player O's move:\n",
      "\\X O X X\\\n",
      " \\X O    \\\n",
      "  \\  O O  \\\n",
      "   \\       \\\n",
      "\n",
      "Player X's move:\n",
      "\\X O X X\\\n",
      " \\X O X  \\\n",
      "  \\  O O  \\\n",
      "   \\       \\\n",
      "\n",
      "Player O's move:\n",
      "\\X O X X\\\n",
      " \\X O X O\\\n",
      "  \\  O O  \\\n",
      "   \\       \\\n",
      "\n",
      "Player X's move:\n",
      "\\X O X X\\\n",
      " \\X O X O\\\n",
      "  \\X O O  \\\n",
      "   \\       \\\n",
      "\n",
      "Player O's move:\n",
      "\\X O X X\\\n",
      " \\X O X O\\\n",
      "  \\X O O  \\\n",
      "   \\O      \\\n",
      "\n",
      "Player O wins!\n"
     ]
    }
   ],
   "source": [
    "main()"
   ]
  },
  {
   "cell_type": "code",
   "execution_count": 225,
   "metadata": {},
   "outputs": [],
   "source": [
    "def convert_board(string):\n",
    "    return [list(line) for line in string.split(\"\\n\")]"
   ]
  },
  {
   "cell_type": "code",
   "execution_count": 226,
   "metadata": {},
   "outputs": [],
   "source": [
    "sx = \"\"\"X X X\\n XXX \\n X X \\nX X  \\n  X  \"\"\"\n",
    "so = \"O  O \\n OO  \\nOO OO\\n OO  \\nO  O \""
   ]
  },
  {
   "cell_type": "code",
   "execution_count": 227,
   "metadata": {},
   "outputs": [
    {
     "data": {
      "text/plain": [
       "[['X', ' ', 'X', ' ', 'X'],\n",
       " [' ', 'X', 'X', 'X', ' '],\n",
       " [' ', 'X', ' ', 'X', ' '],\n",
       " ['X', ' ', 'X', ' ', ' '],\n",
       " [' ', ' ', 'X', ' ', ' ']]"
      ]
     },
     "execution_count": 227,
     "metadata": {},
     "output_type": "execute_result"
    }
   ],
   "source": [
    "bx = convert_board(sx)\n",
    "bx"
   ]
  },
  {
   "cell_type": "code",
   "execution_count": 228,
   "metadata": {},
   "outputs": [
    {
     "data": {
      "text/plain": [
       "[['O', ' ', ' ', 'O', ' '],\n",
       " [' ', 'O', 'O', ' ', ' '],\n",
       " ['O', 'O', ' ', 'O', 'O'],\n",
       " [' ', 'O', 'O', ' ', ' '],\n",
       " ['O', ' ', ' ', 'O', ' ']]"
      ]
     },
     "execution_count": 228,
     "metadata": {},
     "output_type": "execute_result"
    }
   ],
   "source": [
    "bo = convert_board(so)\n",
    "bo"
   ]
  },
  {
   "cell_type": "code",
   "execution_count": 229,
   "metadata": {},
   "outputs": [
    {
     "name": "stdout",
     "output_type": "stream",
     "text": [
      "X:\n",
      "[(0, 0), (0, 2), (0, 4)]\n",
      "[(0, 2), (0, 4)]\n",
      "[(1, 3), (1, 2), (1, 1), (0, 4)]\n",
      "[(2, 3), (1, 2), (1, 1), (0, 4)]\n",
      "[(3, 2), (1, 2), (1, 1), (0, 4)]\n",
      "{(2, 3), (0, 2), (1, 3), (0, 0)}\n"
     ]
    },
    {
     "data": {
      "text/plain": [
       "1"
      ]
     },
     "execution_count": 229,
     "metadata": {},
     "output_type": "execute_result"
    }
   ],
   "source": [
    "evaluate(bx,True)"
   ]
  },
  {
   "cell_type": "code",
   "execution_count": 230,
   "metadata": {},
   "outputs": [
    {
     "name": "stdout",
     "output_type": "stream",
     "text": [
      "X:\n",
      "[]\n",
      "set()\n",
      "O:\n",
      "[(0, 0), (2, 0), (4, 0)]\n",
      "[(2, 0), (4, 0)]\n",
      "[(3, 1), (2, 1), (1, 1), (4, 0)]\n",
      "[(3, 2), (2, 1), (1, 1), (4, 0)]\n",
      "[(2, 3), (2, 1), (1, 1), (4, 0)]\n",
      "{(3, 1), (3, 2), (2, 0), (0, 0)}\n"
     ]
    },
    {
     "data": {
      "text/plain": [
       "-1"
      ]
     },
     "execution_count": 230,
     "metadata": {},
     "output_type": "execute_result"
    }
   ],
   "source": [
    "evaluate(bo,True)"
   ]
  }
 ],
 "metadata": {
  "kernelspec": {
   "display_name": "base",
   "language": "python",
   "name": "python3"
  },
  "language_info": {
   "codemirror_mode": {
    "name": "ipython",
    "version": 3
   },
   "file_extension": ".py",
   "mimetype": "text/x-python",
   "name": "python",
   "nbconvert_exporter": "python",
   "pygments_lexer": "ipython3",
   "version": "3.9.13"
  }
 },
 "nbformat": 4,
 "nbformat_minor": 2
}
