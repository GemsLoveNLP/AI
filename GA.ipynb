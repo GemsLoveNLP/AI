{
 "cells": [
  {
   "cell_type": "code",
   "execution_count": 6,
   "metadata": {},
   "outputs": [],
   "source": [
    "import random\n",
    "import time\n",
    "import copy"
   ]
  },
  {
   "cell_type": "code",
   "execution_count": 7,
   "metadata": {},
   "outputs": [],
   "source": [
    "current_time = int(time.time())\n",
    "random.seed(current_time)"
   ]
  },
  {
   "cell_type": "code",
   "execution_count": 32,
   "metadata": {},
   "outputs": [],
   "source": [
    "def generator(length,size):\n",
    "    result = []\n",
    "    for _ in range(length):\n",
    "        result.append([random.randint(0,size-1),random.randint(0,size-1)])\n",
    "    return result"
   ]
  },
  {
   "cell_type": "markdown",
   "metadata": {},
   "source": [
    "# 3 Sheep 1 Wolf"
   ]
  },
  {
   "cell_type": "code",
   "execution_count": 8,
   "metadata": {},
   "outputs": [],
   "source": [
    "POPULATION_SIZE = 4\n",
    "BOARD_SIZE = 8\n",
    "MUTATION_FACTOR = 0.25"
   ]
  },
  {
   "cell_type": "code",
   "execution_count": 9,
   "metadata": {},
   "outputs": [],
   "source": [
    "def fitness(gene):\n",
    "    sum = 0\n",
    "    for i in range(3):\n",
    "        #  check sheep collision\n",
    "        for j in range(i+1,3):\n",
    "            if abs(gene[i][0] - gene[j][0]) < 3 and abs(gene[i][1] - gene[j][1]) < 3:\n",
    "                sum += 1\n",
    "        #  check wolf collision\n",
    "        if abs(gene[i][0] - gene[3][0]) < 4 and abs(gene[i][1] - gene[3][1]) < 4:\n",
    "            sum += 1\n",
    "        # check sheep out of border\n",
    "        if gene[i][0] <= 0 or gene[i][0] >= BOARD_SIZE-1 or gene[i][1] <= 0 or gene[i][1] >= BOARD_SIZE-1:\n",
    "            sum += 1\n",
    "    # check wolf out of bound\n",
    "    if gene[3][0] <= 1 or gene[3][0] >= BOARD_SIZE-2 or gene[3][1] <= 1 or gene[3][1] >= BOARD_SIZE-2:\n",
    "            sum += 1\n",
    "    return sum\n",
    "\n",
    "def sort_pop(pop):\n",
    "    return sorted(pop, key=lambda x: fitness(x))\n",
    "\n",
    "def mate(mom,dad):\n",
    "    children = []\n",
    "    for _ in range(POPULATION_SIZE):\n",
    "        n = random.randint(0,3)\n",
    "        child = mom[:n] + dad[n:]\n",
    "        children.append(child)\n",
    "    return children\n",
    "\n",
    "def mutate(child):\n",
    "    new_child = copy.deepcopy(child)\n",
    "    i = random.randint(0,3)\n",
    "    j = random.randint(0,1)\n",
    "    if j == 0: #x\n",
    "        x = random.randint(0,BOARD_SIZE-1)\n",
    "        new_child[i][0] = x\n",
    "    else: #y\n",
    "        y = random.randint(0,BOARD_SIZE-1)\n",
    "        new_child[i][1] = y\n",
    "    return new_child\n",
    "\n",
    "def GA(population, limit=1000):\n",
    "    count = 0\n",
    "    while True:\n",
    "\n",
    "        if count == limit:\n",
    "            print(\"Over limit\")\n",
    "            return [[]*4]\n",
    "        count += 1\n",
    "\n",
    "        sorted_pop = sort_pop(population)\n",
    "\n",
    "        # select two best\n",
    "        mom = sorted_pop[0]\n",
    "        dad = sorted_pop[1]\n",
    "\n",
    "        # end game\n",
    "        if fitness(mom) == 0:\n",
    "            return mom\n",
    "\n",
    "        children = mate(mom,dad)\n",
    "        for _ in range(round(MUTATION_FACTOR*POPULATION_SIZE)):\n",
    "            i = random.randint(0,POPULATION_SIZE-1)\n",
    "            children[i] = mutate(children[i])\n",
    "        population = children"
   ]
  },
  {
   "cell_type": "code",
   "execution_count": 10,
   "metadata": {},
   "outputs": [
    {
     "name": "stdout",
     "output_type": "stream",
     "text": [
      "[[2, 1], [5, 1], [1, 4], [5, 5]]\n"
     ]
    }
   ],
   "source": [
    "mom = [[0,1],[3,1],[2,4],[5,4]]\n",
    "dad = [[0,0],[4,1],[2,5],[5,2]]\n",
    "population = [mom,dad]\n",
    "print(GA(population))"
   ]
  },
  {
   "cell_type": "markdown",
   "metadata": {},
   "source": [
    "# Wolves and Sheep"
   ]
  },
  {
   "cell_type": "code",
   "execution_count": 22,
   "metadata": {},
   "outputs": [],
   "source": [
    "S = 2\n",
    "W = 2\n",
    "POPULATION_SIZE = 4\n",
    "BOARD_SIZE = 4\n",
    "MUTATION_FACTOR = 0.25"
   ]
  },
  {
   "cell_type": "code",
   "execution_count": 30,
   "metadata": {},
   "outputs": [],
   "source": [
    "# gene = [(xs0,ys0),...,(xsS-1, ysS-1),(xw0,yw0),...,(xwW-1,ywW-1)]\n",
    "\n",
    "def fitness(gene):\n",
    "    sum = 0\n",
    "    l = list()\n",
    "    for piece in gene:\n",
    "        if piece in l:\n",
    "            sum += 1\n",
    "        else:\n",
    "            l.append(piece)\n",
    "    for i in range(S): # for every sheeps\n",
    "        for j in range(W): # for every wolves\n",
    "            if gene[i][0] == gene[S+j][0] or gene[i][1] == gene[S+j][1] or abs(gene[i][0] - gene[S+j][0]) == abs(gene[i][1] - gene[S+j][1]): \n",
    "                sum += 1\n",
    "    return sum\n",
    "\n",
    "def sort_pop(pop):\n",
    "    return sorted(pop, key=lambda x: fitness(x))\n",
    "\n",
    "def mate(mom,dad):\n",
    "    children = []\n",
    "    for _ in range(POPULATION_SIZE):\n",
    "        n = random.randint(0, S + W - 1)\n",
    "        child = mom[:n] + dad[n:]\n",
    "        children.append(child)\n",
    "    return children\n",
    "\n",
    "def mutate(child):\n",
    "    new_child = copy.deepcopy(child)\n",
    "    i = random.randint(0, S + W - 1)\n",
    "    j = random.randint(0,1)\n",
    "    if j == 0: #x\n",
    "        x = random.randint(0,BOARD_SIZE-1)\n",
    "        new_child[i][0] = x\n",
    "    else: #y\n",
    "        y = random.randint(0,BOARD_SIZE-1)\n",
    "        new_child[i][1] = y\n",
    "    return new_child\n",
    "\n",
    "def GA(population, limit=1000):\n",
    "    count = 0\n",
    "    while True:\n",
    "\n",
    "        if count == limit:\n",
    "            print(\"Over limit\")\n",
    "            return [[]*S]+[[]*W]\n",
    "        count += 1\n",
    "\n",
    "        sorted_pop = sort_pop(population)\n",
    "\n",
    "        # select two best\n",
    "        mom = sorted_pop[0]\n",
    "        dad = sorted_pop[1]\n",
    "\n",
    "        # end game\n",
    "        if fitness(mom) == 0:\n",
    "            return mom\n",
    "\n",
    "        children = mate(mom,dad)\n",
    "        for _ in range(round(MUTATION_FACTOR*POPULATION_SIZE)):\n",
    "            i = random.randint(0,POPULATION_SIZE-1)\n",
    "            children[i] = mutate(children[i])\n",
    "        population = children\n",
    "    "
   ]
  },
  {
   "cell_type": "code",
   "execution_count": 34,
   "metadata": {},
   "outputs": [
    {
     "data": {
      "text/plain": [
       "[[2, 0], [1, 3], [2, 1], [2, 2], [0, 2], [1, 2], [3, 3], [2, 2]]"
      ]
     },
     "execution_count": 34,
     "metadata": {},
     "output_type": "execute_result"
    }
   ],
   "source": [
    "generator(8,4)"
   ]
  },
  {
   "cell_type": "code",
   "execution_count": 36,
   "metadata": {},
   "outputs": [
    {
     "name": "stdout",
     "output_type": "stream",
     "text": [
      "Sheep : [[1, 0], [3, 1], [1, 1], [0, 2], [3, 0], [0, 0]]\n",
      "Wolves: [[2, 3]]\n"
     ]
    }
   ],
   "source": [
    "S = 6\n",
    "W = 1\n",
    "\n",
    "mom = [[0, 2], [3, 3], [0, 0], [0, 2], [2, 2], [2, 1], [2, 3]]\n",
    "dad = [[2, 0], [1, 3], [2, 1], [2, 2], [0, 2], [1, 2], [3, 3]]\n",
    "population = [mom,dad]\n",
    "l = GA(population)\n",
    "print(\"Sheep :\",l[:S])\n",
    "print(\"Wolves:\",l[S:])"
   ]
  },
  {
   "cell_type": "code",
   "execution_count": null,
   "metadata": {},
   "outputs": [],
   "source": []
  }
 ],
 "metadata": {
  "kernelspec": {
   "display_name": "base",
   "language": "python",
   "name": "python3"
  },
  "language_info": {
   "codemirror_mode": {
    "name": "ipython",
    "version": 3
   },
   "file_extension": ".py",
   "mimetype": "text/x-python",
   "name": "python",
   "nbconvert_exporter": "python",
   "pygments_lexer": "ipython3",
   "version": "3.9.13"
  }
 },
 "nbformat": 4,
 "nbformat_minor": 2
}
