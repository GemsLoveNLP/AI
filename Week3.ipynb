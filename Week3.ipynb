{
 "cells": [
  {
   "cell_type": "code",
   "execution_count": 42,
   "metadata": {},
   "outputs": [],
   "source": [
    "def print2(l):\n",
    "    print(\"Print2 | \",end=\"\")\n",
    "    for elm in l:\n",
    "        print(elm,end=\", \")\n",
    "    print()\n",
    "\n",
    "class State:\n",
    "\n",
    "    # turn = 0/1 (bot 0, human 1)\n",
    "    # bot (0) will minimize (utility must = 0)\n",
    "    # man (1) will maximize (utility must = 1)\n",
    "\n",
    "    def __init__(self,array=list((3,2,1))) -> None:\n",
    "        self.nim = array\n",
    "        self.turn = 0\n",
    "\n",
    "    def __str__(self):\n",
    "        return f\"{self.turn}: {self.nim}\"\n",
    "    \n",
    "    def flip_turn(self):\n",
    "        if self.turn == 0:\n",
    "            return 1\n",
    "        elif self.turn == 1:\n",
    "            return 0\n",
    "\n",
    "    def gen_child(self):\n",
    "        childs = []\n",
    "        for i in range(len(self.nim)):\n",
    "            for j in range(self.nim[i]):\n",
    "                child_state_nim = self.nim.copy()\n",
    "                child_state_nim[i] = j\n",
    "                child_state = State(child_state_nim)\n",
    "                child_state.turn = self.flip_turn()\n",
    "                childs.append(child_state)\n",
    "        return childs\n",
    "    \n",
    "    def find_winner(self):\n",
    "        if sum(self.nim) == 0:\n",
    "            return self.flip_turn()\n",
    "        return -1\n",
    " \n",
    "    def utility(self):\n",
    "        if self.turn == 0: # min\n",
    "            children = self.gen_child()\n",
    "            # print2(children)\n",
    "            for child in children:\n",
    "                # print(child)\n",
    "                score = child.find_winner()\n",
    "                if score == -1:\n",
    "                    score = child.utility()[0]\n",
    "                if score == 0:\n",
    "                    return [0,child,\"Win\"]\n",
    "                # print(f\"Min score: {score}, child: {child}\\n\")\n",
    "            # print(\"Looses\")\n",
    "            return [1,self.gen_child()[0],\"Looses\"]\n",
    "        \n",
    "        elif self.turn == 1: # max\n",
    "            children = self.gen_child()\n",
    "            # print2(children)\n",
    "            for child in children:\n",
    "                # print(child)\n",
    "                score = child.find_winner()\n",
    "                if score == -1:\n",
    "                    score = child.utility()[0]\n",
    "                if score == 1:\n",
    "                    return [1,child,\"Win\"]\n",
    "                # print(f\"Max score: {score}, child: {child}\\n\")\n",
    "            # print(\"Looses\")\n",
    "            return [0,self.gen_child()[0],\"Looses\"]\n",
    "        \n",
    "    def path(self):\n",
    "        cur = self\n",
    "        print(f\"Player {cur.turn} => {cur.nim}\")\n",
    "        while True:\n",
    "            if cur.find_winner() != -1:\n",
    "                break\n",
    "            else:\n",
    "                result = cur.utility()\n",
    "                print(f\"Player {result[1].turn} => {result[1].nim}\")\n",
    "                cur = result[1]\n"
   ]
  },
  {
   "cell_type": "code",
   "execution_count": 43,
   "metadata": {},
   "outputs": [],
   "source": [
    "s = State([3,1,2])"
   ]
  },
  {
   "cell_type": "code",
   "execution_count": 44,
   "metadata": {},
   "outputs": [
    {
     "name": "stdout",
     "output_type": "stream",
     "text": [
      "0: [3, 1, 2]\n"
     ]
    }
   ],
   "source": [
    "print(s)"
   ]
  },
  {
   "cell_type": "code",
   "execution_count": 45,
   "metadata": {},
   "outputs": [],
   "source": [
    "l = s.gen_child()"
   ]
  },
  {
   "cell_type": "code",
   "execution_count": 46,
   "metadata": {},
   "outputs": [
    {
     "name": "stdout",
     "output_type": "stream",
     "text": [
      "1: [0, 1, 2]\n",
      "1: [1, 1, 2]\n",
      "1: [2, 1, 2]\n",
      "1: [3, 0, 2]\n",
      "1: [3, 1, 0]\n",
      "1: [3, 1, 1]\n"
     ]
    }
   ],
   "source": [
    "for i in l:\n",
    "    print(i)"
   ]
  },
  {
   "cell_type": "code",
   "execution_count": 47,
   "metadata": {},
   "outputs": [
    {
     "data": {
      "text/plain": [
       "-1"
      ]
     },
     "execution_count": 47,
     "metadata": {},
     "output_type": "execute_result"
    }
   ],
   "source": [
    "l[0].find_winner()"
   ]
  },
  {
   "cell_type": "code",
   "execution_count": 48,
   "metadata": {},
   "outputs": [
    {
     "name": "stdout",
     "output_type": "stream",
     "text": [
      "0: [3, 1, 2]\n"
     ]
    }
   ],
   "source": [
    "print(s)"
   ]
  },
  {
   "cell_type": "code",
   "execution_count": 49,
   "metadata": {},
   "outputs": [],
   "source": [
    "l = s.utility()"
   ]
  },
  {
   "cell_type": "code",
   "execution_count": 50,
   "metadata": {},
   "outputs": [
    {
     "name": "stdout",
     "output_type": "stream",
     "text": [
      "1\n",
      "1: [0, 1, 2]\n",
      "Looses\n"
     ]
    }
   ],
   "source": [
    "for elm in l:\n",
    "    print(elm)"
   ]
  },
  {
   "cell_type": "code",
   "execution_count": 51,
   "metadata": {},
   "outputs": [
    {
     "name": "stdout",
     "output_type": "stream",
     "text": [
      "Player 0 => [3, 1, 2]\n",
      "Player 1 => [0, 1, 2]\n",
      "Player 0 => [0, 1, 1]\n",
      "Player 1 => [0, 0, 1]\n",
      "Player 0 => [0, 0, 0]\n"
     ]
    }
   ],
   "source": [
    "s.path()"
   ]
  },
  {
   "cell_type": "markdown",
   "metadata": {},
   "source": [
    "# 30 game"
   ]
  },
  {
   "cell_type": "code",
   "execution_count": 52,
   "metadata": {},
   "outputs": [],
   "source": [
    "# object is just an integer\n",
    "GOAL = 30\n",
    "LIMIT = 10\n",
    "\n",
    "def is_over(obj):\n",
    "    return obj == GOAL\n",
    "\n",
    "def minimax(obj,maximizing):\n",
    "    if maximizing:\n",
    "        if is_over(obj):\n",
    "            return -1\n",
    "        max_value = -2\n",
    "        for i in range(1,min(LIMIT+1,GOAL-obj+1)):\n",
    "            new_value = minimax(obj+i,False)\n",
    "            if new_value > max_value:\n",
    "                max_value = new_value\n",
    "        return max_value\n",
    "    else:\n",
    "        if is_over(obj):\n",
    "            return 1\n",
    "        min_value = 2\n",
    "        for i in range(1,min(LIMIT+1,GOAL-obj+1)):\n",
    "            new_value = minimax(obj+i,True)\n",
    "            if new_value < min_value:\n",
    "                min_value = new_value\n",
    "        return min_value\n",
    "    \n",
    "def get_best_move(obj):\n",
    "    max_value = -2\n",
    "    max_move = 1\n",
    "    for i in range(1,min(LIMIT+1,GOAL-obj+1)):\n",
    "        new_value = minimax(obj+i,False)\n",
    "        if new_value > max_value:\n",
    "            max_value = new_value\n",
    "            max_move = i\n",
    "    return max_move\n",
    "\n",
    "def main():\n",
    "    obj = 0\n",
    "    i = 0\n",
    "    while True:\n",
    "        i += 1\n",
    "        print(f\"round {i}\")\n",
    "        obj += int(input(\"Enter your number: \"))\n",
    "        print(f\"SUM = {obj}\")\n",
    "        if is_over(obj):\n",
    "            print(\"Human wins\")\n",
    "            return\n",
    "        best_move = get_best_move(obj)\n",
    "        print(f\"Bot: {best_move}\")\n",
    "        obj += best_move\n",
    "        print(f\"SUM = {obj}\")\n",
    "        if is_over(obj):\n",
    "            print(\"Bot wins\")\n",
    "            return\n",
    "        print()"
   ]
  },
  {
   "cell_type": "code",
   "execution_count": 53,
   "metadata": {},
   "outputs": [
    {
     "name": "stdout",
     "output_type": "stream",
     "text": [
      "round 1\n",
      "SUM = 7\n",
      "Bot: 1\n",
      "SUM = 8\n",
      "round 2\n",
      "SUM = 9\n",
      "Bot: 10\n",
      "SUM = 19\n",
      "round 3\n",
      "SUM = 23\n",
      "Bot: 7\n",
      "SUM = 30\n",
      "Bot wins\n"
     ]
    }
   ],
   "source": [
    "main()"
   ]
  },
  {
   "cell_type": "code",
   "execution_count": null,
   "metadata": {},
   "outputs": [],
   "source": []
  }
 ],
 "metadata": {
  "kernelspec": {
   "display_name": "base",
   "language": "python",
   "name": "python3"
  },
  "language_info": {
   "codemirror_mode": {
    "name": "ipython",
    "version": 3
   },
   "file_extension": ".py",
   "mimetype": "text/x-python",
   "name": "python",
   "nbconvert_exporter": "python",
   "pygments_lexer": "ipython3",
   "version": "3.9.13"
  }
 },
 "nbformat": 4,
 "nbformat_minor": 2
}
