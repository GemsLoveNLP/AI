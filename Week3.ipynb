{
 "cells": [
  {
   "cell_type": "code",
   "execution_count": 157,
   "metadata": {},
   "outputs": [],
   "source": [
    "def print2(l):\n",
    "    print(\"Print2 | \",end=\"\")\n",
    "    for elm in l:\n",
    "        print(elm,end=\", \")\n",
    "    print()\n",
    "\n",
    "class State:\n",
    "\n",
    "    # turn = 0/1 (bot 0, human 1)\n",
    "    # bot (0) will minimize (utility must = 0)\n",
    "    # man (1) will maximize (utility must = 1)\n",
    "\n",
    "    def __init__(self,array=list((3,2,1))) -> None:\n",
    "        self.nim = array\n",
    "        self.turn = 0\n",
    "\n",
    "    def __str__(self):\n",
    "        return f\"{self.turn}: {self.nim}\"\n",
    "    \n",
    "    def flip_turn(self):\n",
    "        if self.turn == 0:\n",
    "            return 1\n",
    "        elif self.turn == 1:\n",
    "            return 0\n",
    "\n",
    "    def gen_child(self):\n",
    "        childs = []\n",
    "        for i in range(len(self.nim)):\n",
    "            for j in range(self.nim[i]):\n",
    "                child_state_nim = self.nim.copy()\n",
    "                child_state_nim[i] = j\n",
    "                child_state = State(child_state_nim)\n",
    "                child_state.turn = self.flip_turn()\n",
    "                childs.append(child_state)\n",
    "        return childs\n",
    "    \n",
    "    def find_winner(self):\n",
    "        if sum(self.nim) == 0:\n",
    "            return self.flip_turn()\n",
    "        return -1\n",
    "\n",
    "    # def find_child(self):\n",
    "    #     children = self.gen_child()\n",
    "    #     for child in children:\n",
    "    #         if child.find_winner() == -1:\n",
    "                \n",
    "\n",
    "    \n",
    "    def utility(self):\n",
    "        if self.turn == 0: # min\n",
    "            children = self.gen_child()\n",
    "            # print2(children)\n",
    "            for child in children:\n",
    "                # print(child)\n",
    "                score = child.find_winner()\n",
    "                if score == -1:\n",
    "                    score = child.utility()[0]\n",
    "                if score == 0:\n",
    "                    return [0,child,\"Win\"]\n",
    "                print(f\"Min score: {score}, child: {child}\\n\")\n",
    "            # print(\"Looses\")\n",
    "            return [1,self.gen_child()[0],\"Looses\"]\n",
    "        \n",
    "        elif self.turn == 1: # max\n",
    "            children = self.gen_child()\n",
    "            # print2(children)\n",
    "            for child in children:\n",
    "                # print(child)\n",
    "                score = child.find_winner()\n",
    "                if score == -1:\n",
    "                    score = child.utility()[0]\n",
    "                if score == 1:\n",
    "                    return [1,child,\"Win\"]\n",
    "                print(f\"Max score: {score}, child: {child}\\n\")\n",
    "            # print(\"Looses\")\n",
    "            return [0,self.gen_child()[0],\"Looses\"]\n"
   ]
  },
  {
   "cell_type": "code",
   "execution_count": 158,
   "metadata": {},
   "outputs": [],
   "source": [
    "s = State([1,1,2])"
   ]
  },
  {
   "cell_type": "code",
   "execution_count": 159,
   "metadata": {},
   "outputs": [
    {
     "name": "stdout",
     "output_type": "stream",
     "text": [
      "0: [1, 1, 2]\n"
     ]
    }
   ],
   "source": [
    "print(s)"
   ]
  },
  {
   "cell_type": "code",
   "execution_count": 160,
   "metadata": {},
   "outputs": [],
   "source": [
    "l = s.gen_child()"
   ]
  },
  {
   "cell_type": "code",
   "execution_count": 161,
   "metadata": {},
   "outputs": [
    {
     "name": "stdout",
     "output_type": "stream",
     "text": [
      "1: [0, 1, 2]\n",
      "1: [1, 0, 2]\n",
      "1: [1, 1, 0]\n",
      "1: [1, 1, 1]\n"
     ]
    }
   ],
   "source": [
    "for i in l:\n",
    "    print(i)"
   ]
  },
  {
   "cell_type": "code",
   "execution_count": 162,
   "metadata": {},
   "outputs": [
    {
     "data": {
      "text/plain": [
       "-1"
      ]
     },
     "execution_count": 162,
     "metadata": {},
     "output_type": "execute_result"
    }
   ],
   "source": [
    "l[0].find_winner()"
   ]
  },
  {
   "cell_type": "code",
   "execution_count": 163,
   "metadata": {},
   "outputs": [
    {
     "name": "stdout",
     "output_type": "stream",
     "text": [
      "0: [1, 1, 2]\n"
     ]
    }
   ],
   "source": [
    "print(s)"
   ]
  },
  {
   "cell_type": "code",
   "execution_count": 164,
   "metadata": {},
   "outputs": [
    {
     "name": "stdout",
     "output_type": "stream",
     "text": [
      "Max score: 0, child: 0: [0, 0, 2]\n",
      "\n",
      "Max score: 0, child: 0: [0, 1, 0]\n",
      "\n",
      "Min score: 1, child: 1: [0, 0, 1]\n",
      "\n",
      "Min score: 1, child: 1: [0, 1, 0]\n",
      "\n",
      "Min score: 1, child: 1: [0, 1, 2]\n",
      "\n",
      "Max score: 0, child: 0: [0, 0, 2]\n",
      "\n",
      "Max score: 0, child: 0: [1, 0, 0]\n",
      "\n",
      "Min score: 1, child: 1: [0, 0, 1]\n",
      "\n",
      "Min score: 1, child: 1: [1, 0, 0]\n",
      "\n",
      "Min score: 1, child: 1: [1, 0, 2]\n",
      "\n",
      "Max score: 0, child: 0: [0, 1, 0]\n",
      "\n",
      "Max score: 0, child: 0: [1, 0, 0]\n",
      "\n"
     ]
    }
   ],
   "source": [
    "l = s.utility()"
   ]
  },
  {
   "cell_type": "code",
   "execution_count": 165,
   "metadata": {},
   "outputs": [
    {
     "name": "stdout",
     "output_type": "stream",
     "text": [
      "0\n",
      "1: [1, 1, 0]\n",
      "Win\n"
     ]
    }
   ],
   "source": [
    "for elm in l:\n",
    "    print(elm)"
   ]
  },
  {
   "cell_type": "code",
   "execution_count": null,
   "metadata": {},
   "outputs": [],
   "source": []
  }
 ],
 "metadata": {
  "kernelspec": {
   "display_name": "base",
   "language": "python",
   "name": "python3"
  },
  "language_info": {
   "codemirror_mode": {
    "name": "ipython",
    "version": 3
   },
   "file_extension": ".py",
   "mimetype": "text/x-python",
   "name": "python",
   "nbconvert_exporter": "python",
   "pygments_lexer": "ipython3",
   "version": "3.9.13"
  }
 },
 "nbformat": 4,
 "nbformat_minor": 2
}
