{
 "cells": [
  {
   "cell_type": "code",
   "execution_count": 13,
   "metadata": {},
   "outputs": [],
   "source": [
    "import random\n",
    "import time"
   ]
  },
  {
   "cell_type": "code",
   "execution_count": 14,
   "metadata": {},
   "outputs": [],
   "source": [
    "current_time = int(time.time())\n",
    "random.seed(current_time)"
   ]
  },
  {
   "cell_type": "code",
   "execution_count": 15,
   "metadata": {},
   "outputs": [],
   "source": [
    "probability_LUT = {1:1, 2:5/6, 3:4/6, 4:3/6, 5:2/6, 6:1/6}"
   ]
  },
  {
   "cell_type": "code",
   "execution_count": 16,
   "metadata": {},
   "outputs": [],
   "source": [
    "def print2(l):\n",
    "    print(\"Print2 | \",end=\"\")\n",
    "    for elm in l:\n",
    "        print(elm,end=\", \")\n",
    "    print()\n",
    "\n",
    "class State:\n",
    "\n",
    "    def __init__(self,array=list((3,2,1))) -> None:\n",
    "        self.nim = array\n",
    "        self.turn = 1\n",
    "\n",
    "    def __str__(self):\n",
    "        return f\"{self.turn}: {self.nim}\"\n",
    "    \n",
    "    def flip_turn(self):\n",
    "        if self.turn == -1:\n",
    "            return 1\n",
    "        elif self.turn == 1:\n",
    "            return -1\n",
    "\n",
    "    def gen_child(self):\n",
    "        childs = []\n",
    "        for i in range(len(self.nim)):\n",
    "            for j in range(min(self.nim[i],6)):         # add min(,6) to remove only upto the die\n",
    "                child_state_nim = self.nim.copy()\n",
    "                child_state_nim[i] = child_state_nim[i] - (j+1)\n",
    "                child_state = State(child_state_nim)\n",
    "                child_state.turn = self.flip_turn()\n",
    "                child_state_tup = (child_state, j+1)\n",
    "                childs.append(child_state_tup)\n",
    "        return childs\n",
    "    \n",
    "    def find_winner(self):\n",
    "        if sum(self.nim) == 0:\n",
    "            return -self.turn\n",
    "        return 0\n",
    "        \n",
    "    def stochastic_minimax(self):\n",
    "        if self.find_winner() != 0:\n",
    "            # print(f\"Child| {str(self)}\")\n",
    "            return self.find_winner()\n",
    "        \n",
    "        if self.turn == 1: # maximizing\n",
    "            children = self.gen_child()\n",
    "            max_score = float(\"-inf\")\n",
    "            for child, remove_value in children:\n",
    "                score = child.stochastic_minimax()\n",
    "                expected_value = score * probability_LUT[remove_value]\n",
    "                # print(f\"Child| {str(child)} : Score {expected_value}\")\n",
    "                if expected_value > max_score:\n",
    "                    max_score = expected_value\n",
    "            return max_score\n",
    "        \n",
    "        elif self.turn == -1: # minimizing\n",
    "            children = self.gen_child()\n",
    "            min_score = float(\"inf\")\n",
    "            for child, remove_value in children:\n",
    "                score = child.stochastic_minimax()\n",
    "                expected_value = score * probability_LUT[remove_value]\n",
    "                # print(f\"Child| {str(child)} : Score {expected_value}\")\n",
    "                if expected_value < min_score:\n",
    "                    min_score = expected_value\n",
    "            return min_score\n",
    "        \n",
    "    def make_move(self, die_roll=0):\n",
    "        if die_roll <= 0:\n",
    "            die_roll = random.randint(1,6)\n",
    "        best_state = None\n",
    "        best_score = float(\"-inf\")\n",
    "        for i in range(len(self.nim)):\n",
    "            for j in range(min(die_roll,self.nim[i])):\n",
    "                child_state_nim = self.nim.copy()\n",
    "                child_state_nim[i] = child_state_nim[i] - (j+1)\n",
    "                child_state = State(child_state_nim)\n",
    "                child_state.turn = self.flip_turn()\n",
    "                child_state_score = child_state.stochastic_minimax()\n",
    "                # print(f\"Child|| {str(child_state)} : Score {child_state_score}\\n\")\n",
    "                if child_state_score > best_score:\n",
    "                    best_state = child_state\n",
    "                    best_score = child_state_score\n",
    "        return best_state\n"
   ]
  },
  {
   "cell_type": "code",
   "execution_count": 17,
   "metadata": {},
   "outputs": [],
   "source": [
    "s = State([4,0,0])\n",
    "c = s.make_move(3)"
   ]
  },
  {
   "cell_type": "code",
   "execution_count": 18,
   "metadata": {},
   "outputs": [
    {
     "name": "stdout",
     "output_type": "stream",
     "text": [
      "-1: [3, 0, 0]\n"
     ]
    }
   ],
   "source": [
    "print(c)"
   ]
  },
  {
   "cell_type": "code",
   "execution_count": 19,
   "metadata": {},
   "outputs": [
    {
     "data": {
      "text/plain": [
       "-0.6666666666666666"
      ]
     },
     "execution_count": 19,
     "metadata": {},
     "output_type": "execute_result"
    }
   ],
   "source": [
    "c.stochastic_minimax()"
   ]
  }
 ],
 "metadata": {
  "kernelspec": {
   "display_name": "base",
   "language": "python",
   "name": "python3"
  },
  "language_info": {
   "codemirror_mode": {
    "name": "ipython",
    "version": 3
   },
   "file_extension": ".py",
   "mimetype": "text/x-python",
   "name": "python",
   "nbconvert_exporter": "python",
   "pygments_lexer": "ipython3",
   "version": "3.9.13"
  }
 },
 "nbformat": 4,
 "nbformat_minor": 2
}
