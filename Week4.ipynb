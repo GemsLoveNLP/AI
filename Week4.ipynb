{
 "cells": [
  {
   "cell_type": "code",
   "execution_count": 3,
   "metadata": {},
   "outputs": [],
   "source": [
    "import random\n",
    "import time\n",
    "import math"
   ]
  },
  {
   "cell_type": "code",
   "execution_count": 4,
   "metadata": {},
   "outputs": [],
   "source": [
    "current_time = int(time.time())\n",
    "random.seed(current_time)"
   ]
  },
  {
   "cell_type": "code",
   "execution_count": 5,
   "metadata": {},
   "outputs": [],
   "source": [
    "probability_LUT = {1:1, 2:5/6, 3:4/6, 4:3/6, 5:2/6, 6:1/6}"
   ]
  },
  {
   "cell_type": "code",
   "execution_count": 19,
   "metadata": {},
   "outputs": [],
   "source": [
    "def print2(l):\n",
    "    print(\"Print2 | \",end=\"\")\n",
    "    for elm in l:\n",
    "        print(elm,end=\", \")\n",
    "    print()\n",
    "\n",
    "class State:\n",
    "\n",
    "    def __init__(self,array=list((3,2,1))) -> None:\n",
    "        self.nim = array\n",
    "        self.turn = 1\n",
    "\n",
    "    def __str__(self):\n",
    "        return f\"{self.turn}: {self.nim}\"\n",
    "    \n",
    "    def flip_turn(self):\n",
    "        if self.turn == -1:\n",
    "            return 1\n",
    "        elif self.turn == 1:\n",
    "            return -1\n",
    "\n",
    "    def gen_child(self):\n",
    "        childs = []\n",
    "        for i in range(len(self.nim)):\n",
    "            for j in range(min(self.nim[i],6)):         # add min(,6) to remove only upto the die\n",
    "                child_state_nim = self.nim.copy()\n",
    "                child_state_nim[i] = child_state_nim[i] - (j+1)\n",
    "                child_state = State(child_state_nim)\n",
    "                child_state.turn = self.flip_turn()\n",
    "                child_state_tup = (child_state, j+1)\n",
    "                childs.append(child_state_tup)\n",
    "        return childs\n",
    "    \n",
    "    def find_winner(self):\n",
    "        if sum(self.nim) == 0:\n",
    "            return -self.turn\n",
    "        return 0\n",
    "        \n",
    "    def stochastic_minimax(self):\n",
    "        if self.find_winner() != 0:\n",
    "            # print(f\"Child| {str(self)}\")\n",
    "            return self.find_winner()\n",
    "        \n",
    "        if self.turn == 1: # maximizing\n",
    "            children = self.gen_child()\n",
    "            max_score = float(\"-inf\")\n",
    "            for child, remove_value in children:\n",
    "                score = child.stochastic_minimax()\n",
    "                expected_value = score * probability_LUT[remove_value]\n",
    "                # print(f\"Child| {str(child)} : Score {expected_value}\")\n",
    "                if expected_value > max_score:\n",
    "                    max_score = expected_value\n",
    "            return max_score\n",
    "        \n",
    "        elif self.turn == -1: # minimizing\n",
    "            children = self.gen_child()\n",
    "            min_score = float(\"inf\")\n",
    "            for child, remove_value in children:\n",
    "                score = child.stochastic_minimax()\n",
    "                expected_value = score * probability_LUT[remove_value]\n",
    "                # print(f\"Child| {str(child)} : Score {expected_value}\")\n",
    "                if expected_value < min_score:\n",
    "                    min_score = expected_value\n",
    "            return min_score\n",
    "        \n",
    "    def make_move(self, die_roll=0):\n",
    "        if die_roll <= 0:\n",
    "            die_roll = random.randint(1,6)\n",
    "        best_state = None\n",
    "        best_score = float(\"-inf\")\n",
    "        for i in range(len(self.nim)):\n",
    "            for j in range(min(die_roll,self.nim[i])):\n",
    "                child_state_nim = self.nim.copy()\n",
    "                child_state_nim[i] = child_state_nim[i] - (j+1)\n",
    "                child_state = State(child_state_nim)\n",
    "                child_state.turn = self.flip_turn()\n",
    "                child_state_score = child_state.stochastic_minimax()\n",
    "                print(f\"Child|| {str(child_state)} : Score {child_state_score}\\n\")\n",
    "                if child_state_score > best_score:\n",
    "                    best_state = child_state\n",
    "                    best_score = child_state_score\n",
    "        return best_state\n"
   ]
  },
  {
   "cell_type": "code",
   "execution_count": 20,
   "metadata": {},
   "outputs": [
    {
     "name": "stdout",
     "output_type": "stream",
     "text": [
      "Child|| -1: [3, 0, 0] : Score -0.6666666666666666\n",
      "\n",
      "Child|| -1: [2, 0, 0] : Score -0.8333333333333334\n",
      "\n",
      "Child|| -1: [1, 0, 0] : Score -1\n",
      "\n"
     ]
    }
   ],
   "source": [
    "s = State([4,0,0])\n",
    "c = s.make_move(3)"
   ]
  },
  {
   "cell_type": "code",
   "execution_count": 8,
   "metadata": {},
   "outputs": [
    {
     "name": "stdout",
     "output_type": "stream",
     "text": [
      "-1: [3, 0, 0]\n"
     ]
    }
   ],
   "source": [
    "print(c)"
   ]
  },
  {
   "cell_type": "code",
   "execution_count": 9,
   "metadata": {},
   "outputs": [
    {
     "data": {
      "text/plain": [
       "-0.6666666666666666"
      ]
     },
     "execution_count": 9,
     "metadata": {},
     "output_type": "execute_result"
    }
   ],
   "source": [
    "c.stochastic_minimax()"
   ]
  },
  {
   "cell_type": "code",
   "execution_count": 24,
   "metadata": {},
   "outputs": [],
   "source": [
    "# state = [pile1,pile2,pile3]\n",
    "\n",
    "probability_LUT = {1:1, 2:5/6, 3:4/6, 4:3/6, 5:2/6, 6:1/6}\n",
    "\n",
    "def utility(state):\n",
    "    if sum(state) == 0:\n",
    "        return 1\n",
    "    return 0\n",
    "\n",
    "def minimax(state,maximizing):\n",
    "    if maximizing:\n",
    "        if utility(state) == 1:\n",
    "            return -1\n",
    "        max_val = -math.inf\n",
    "        for i in range(3):\n",
    "            for j in range(1,min(state[i]+1,7)):\n",
    "                new_state = state.copy()\n",
    "                new_state[i] = new_state[i] - j\n",
    "                new_val = probability_LUT[j]*minimax(new_state,False)\n",
    "                if new_val > max_val:\n",
    "                    max_val = new_val\n",
    "        return max_val\n",
    "    else:\n",
    "        if utility(state) == 1:\n",
    "            return 1\n",
    "        min_val = math.inf\n",
    "        for i in range(3):\n",
    "            for j in range(1,min(state[i]+1,7)):\n",
    "                new_state = state.copy()\n",
    "                new_state[i] = new_state[i] - j\n",
    "                new_val = probability_LUT[j]*minimax(new_state,True)\n",
    "                if new_val < min_val:\n",
    "                    min_val = new_val\n",
    "        return min_val\n",
    "    \n",
    "def get_best_move(state,die_roll):\n",
    "    if die_roll <= 0 or die_roll > 6:\n",
    "        die_roll = random.randint(1,6)\n",
    "    max_val = -math.inf\n",
    "    best_move = None\n",
    "    for i in range(3):\n",
    "        for j in range(1,min(state[i]+1,die_roll+1)):\n",
    "            if best_move == None:\n",
    "                best_move = (i,j)\n",
    "            new_state = state.copy()\n",
    "            new_state[i] = new_state[i] - j\n",
    "            new_val = minimax(new_state,False) \n",
    "            # no need for prob as we know exactly what happened\n",
    "            if new_val > max_val:\n",
    "                max_val = new_val\n",
    "                best_move = (i,j)\n",
    "            # print(i,j,new_val)\n",
    "    return best_move\n",
    "    \n",
    "    "
   ]
  },
  {
   "cell_type": "code",
   "execution_count": 22,
   "metadata": {},
   "outputs": [],
   "source": [
    "s = [4,0,0]\n",
    "c = get_best_move(s,3)"
   ]
  },
  {
   "cell_type": "code",
   "execution_count": 23,
   "metadata": {},
   "outputs": [
    {
     "data": {
      "text/plain": [
       "(0, 1)"
      ]
     },
     "execution_count": 23,
     "metadata": {},
     "output_type": "execute_result"
    }
   ],
   "source": [
    "c"
   ]
  },
  {
   "cell_type": "code",
   "execution_count": 27,
   "metadata": {},
   "outputs": [],
   "source": [
    "# state = [pile1,pile2,pile3]\n",
    "\n",
    "probability_LUT = {1:1, 2:5/6, 3:4/6, 4:3/6, 5:2/6, 6:1/6}\n",
    "\n",
    "def utility(state):\n",
    "    if sum(state) == 0:\n",
    "        return 1\n",
    "    return 0\n",
    "\n",
    "def minimax(state,maximizing):\n",
    "    if maximizing:\n",
    "        if utility(state) == 1:\n",
    "            return -1\n",
    "        sum_val = 0\n",
    "        for i in range(3):\n",
    "            for j in range(1,min(state[i]+1,7)):\n",
    "                new_state = state.copy()\n",
    "                new_state[i] = new_state[i] - j\n",
    "                new_val = probability_LUT[j]*minimax(new_state,False)\n",
    "                sum_val += new_val\n",
    "        return sum_val\n",
    "    else:\n",
    "        if utility(state) == 1:\n",
    "            return 1\n",
    "        sum_val = 0\n",
    "        for i in range(3):\n",
    "            for j in range(1,min(state[i]+1,7)):\n",
    "                new_state = state.copy()\n",
    "                new_state[i] = new_state[i] - j\n",
    "                new_val = probability_LUT[j]*minimax(new_state,True)\n",
    "                sum_val += new_val\n",
    "        return sum_val\n",
    "    \n",
    "def get_best_move(state,die_roll):\n",
    "    if die_roll <= 0 or die_roll > 6:\n",
    "        die_roll = random.randint(1,6)\n",
    "    max_val = -math.inf\n",
    "    best_move = None\n",
    "    for i in range(3):\n",
    "        for j in range(1,min(state[i]+1,die_roll+1)):\n",
    "            if best_move == None:\n",
    "                best_move = (i,j)\n",
    "            new_state = state.copy()\n",
    "            new_state[i] = new_state[i] - j\n",
    "            new_val = minimax(new_state,False) # no need for prob as we know exactly what happened\n",
    "            if new_val > max_val:\n",
    "                max_val = new_val\n",
    "                best_move = (i,j)\n",
    "            print(i,j,new_val)\n",
    "    return best_move\n",
    "    \n",
    "    "
   ]
  },
  {
   "cell_type": "code",
   "execution_count": 28,
   "metadata": {},
   "outputs": [
    {
     "name": "stdout",
     "output_type": "stream",
     "text": [
      "0 1 1.1102230246251565e-16\n",
      "0 2 0.16666666666666663\n",
      "0 3 -1\n"
     ]
    },
    {
     "data": {
      "text/plain": [
       "(0, 2)"
      ]
     },
     "execution_count": 28,
     "metadata": {},
     "output_type": "execute_result"
    }
   ],
   "source": [
    "s = [4,0,0]\n",
    "c = get_best_move(s,3)\n",
    "c"
   ]
  },
  {
   "cell_type": "code",
   "execution_count": null,
   "metadata": {},
   "outputs": [],
   "source": []
  }
 ],
 "metadata": {
  "kernelspec": {
   "display_name": "base",
   "language": "python",
   "name": "python3"
  },
  "language_info": {
   "codemirror_mode": {
    "name": "ipython",
    "version": 3
   },
   "file_extension": ".py",
   "mimetype": "text/x-python",
   "name": "python",
   "nbconvert_exporter": "python",
   "pygments_lexer": "ipython3",
   "version": "3.9.13"
  }
 },
 "nbformat": 4,
 "nbformat_minor": 2
}
